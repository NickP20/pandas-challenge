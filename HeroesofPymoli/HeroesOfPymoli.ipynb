{
 "cells": [
  {
   "cell_type": "markdown",
   "id": "3fed028a",
   "metadata": {},
   "source": [
    "Trend Analysis \n",
    "\n",
    "1.For the 576 unique players the great majority are male, representing just over 84% of the user base, brining in the greatest total purchase amount as a group. However, on average males tend to spend the least in total purchases per person. With Other/ Non-Disclosed individuals brining in the greatest average purchase total per person, but representing the smallest user base and least total purchase value as a group.\n",
    "\n",
    "2.The age demographic of users follows a fairly symmetrical distribution with a sharp peak at 20-24, and the tail being slightly longer on the right side for the older age base. \n",
    "\n",
    "3.The top 2 most popular games (1.Final Critic, 2.Oathbreaker) are also the most profitable. Interestingly Nirvana is the 3rd most profitable game due to its higher price point, but does not make the top 5 most popular.\n"
   ]
  },
  {
   "cell_type": "code",
   "execution_count": 1,
   "id": "6bc9d602",
   "metadata": {},
   "outputs": [],
   "source": [
    "#Import Dependencies\n",
    "import pandas as pd"
   ]
  },
  {
   "cell_type": "code",
   "execution_count": 2,
   "id": "a417ee2e",
   "metadata": {
    "scrolled": true
   },
   "outputs": [
    {
     "data": {
      "text/html": [
       "<div>\n",
       "<style scoped>\n",
       "    .dataframe tbody tr th:only-of-type {\n",
       "        vertical-align: middle;\n",
       "    }\n",
       "\n",
       "    .dataframe tbody tr th {\n",
       "        vertical-align: top;\n",
       "    }\n",
       "\n",
       "    .dataframe thead th {\n",
       "        text-align: right;\n",
       "    }\n",
       "</style>\n",
       "<table border=\"1\" class=\"dataframe\">\n",
       "  <thead>\n",
       "    <tr style=\"text-align: right;\">\n",
       "      <th></th>\n",
       "      <th>Purchase ID</th>\n",
       "      <th>SN</th>\n",
       "      <th>Age</th>\n",
       "      <th>Gender</th>\n",
       "      <th>Item ID</th>\n",
       "      <th>Item Name</th>\n",
       "      <th>Price</th>\n",
       "    </tr>\n",
       "  </thead>\n",
       "  <tbody>\n",
       "    <tr>\n",
       "      <th>0</th>\n",
       "      <td>0</td>\n",
       "      <td>Lisim78</td>\n",
       "      <td>20</td>\n",
       "      <td>Male</td>\n",
       "      <td>108</td>\n",
       "      <td>Extraction, Quickblade Of Trembling Hands</td>\n",
       "      <td>3.53</td>\n",
       "    </tr>\n",
       "    <tr>\n",
       "      <th>1</th>\n",
       "      <td>1</td>\n",
       "      <td>Lisovynya38</td>\n",
       "      <td>40</td>\n",
       "      <td>Male</td>\n",
       "      <td>143</td>\n",
       "      <td>Frenzied Scimitar</td>\n",
       "      <td>1.56</td>\n",
       "    </tr>\n",
       "    <tr>\n",
       "      <th>2</th>\n",
       "      <td>2</td>\n",
       "      <td>Ithergue48</td>\n",
       "      <td>24</td>\n",
       "      <td>Male</td>\n",
       "      <td>92</td>\n",
       "      <td>Final Critic</td>\n",
       "      <td>4.88</td>\n",
       "    </tr>\n",
       "    <tr>\n",
       "      <th>3</th>\n",
       "      <td>3</td>\n",
       "      <td>Chamassasya86</td>\n",
       "      <td>24</td>\n",
       "      <td>Male</td>\n",
       "      <td>100</td>\n",
       "      <td>Blindscythe</td>\n",
       "      <td>3.27</td>\n",
       "    </tr>\n",
       "    <tr>\n",
       "      <th>4</th>\n",
       "      <td>4</td>\n",
       "      <td>Iskosia90</td>\n",
       "      <td>23</td>\n",
       "      <td>Male</td>\n",
       "      <td>131</td>\n",
       "      <td>Fury</td>\n",
       "      <td>1.44</td>\n",
       "    </tr>\n",
       "  </tbody>\n",
       "</table>\n",
       "</div>"
      ],
      "text/plain": [
       "   Purchase ID             SN  Age Gender  Item ID  \\\n",
       "0            0        Lisim78   20   Male      108   \n",
       "1            1    Lisovynya38   40   Male      143   \n",
       "2            2     Ithergue48   24   Male       92   \n",
       "3            3  Chamassasya86   24   Male      100   \n",
       "4            4      Iskosia90   23   Male      131   \n",
       "\n",
       "                                   Item Name  Price  \n",
       "0  Extraction, Quickblade Of Trembling Hands   3.53  \n",
       "1                          Frenzied Scimitar   1.56  \n",
       "2                               Final Critic   4.88  \n",
       "3                                Blindscythe   3.27  \n",
       "4                                       Fury   1.44  "
      ]
     },
     "execution_count": 2,
     "metadata": {},
     "output_type": "execute_result"
    }
   ],
   "source": [
    "#File to Load\n",
    "fpath = \"../Resources/purchase_data.csv\"\n",
    "#Reading and storing of file into pandas\n",
    "purchase_df = pd.read_csv(fpath)\n",
    "purchase_df.head()"
   ]
  },
  {
   "cell_type": "code",
   "execution_count": 3,
   "id": "baeea02e",
   "metadata": {},
   "outputs": [
    {
     "data": {
      "text/html": [
       "<div>\n",
       "<style scoped>\n",
       "    .dataframe tbody tr th:only-of-type {\n",
       "        vertical-align: middle;\n",
       "    }\n",
       "\n",
       "    .dataframe tbody tr th {\n",
       "        vertical-align: top;\n",
       "    }\n",
       "\n",
       "    .dataframe thead th {\n",
       "        text-align: right;\n",
       "    }\n",
       "</style>\n",
       "<table border=\"1\" class=\"dataframe\">\n",
       "  <thead>\n",
       "    <tr style=\"text-align: right;\">\n",
       "      <th></th>\n",
       "      <th>Total Players</th>\n",
       "    </tr>\n",
       "  </thead>\n",
       "  <tbody>\n",
       "    <tr>\n",
       "      <th>0</th>\n",
       "      <td>576</td>\n",
       "    </tr>\n",
       "  </tbody>\n",
       "</table>\n",
       "</div>"
      ],
      "text/plain": [
       "   Total Players\n",
       "0            576"
      ]
     },
     "execution_count": 3,
     "metadata": {},
     "output_type": "execute_result"
    }
   ],
   "source": [
    "#Total num of unique players\n",
    "users_df = purchase_df.loc[:,[\"SN\",\"Age\"]]\n",
    "users_df = users_df.drop_duplicates()\n",
    "player_count = users_df.drop_duplicates()\n",
    "player_count = player_count.SN.count()\n",
    "#create dataframe\n",
    "summary_df= pd.DataFrame({'Total Players': [player_count]})\n",
    "summary_df"
   ]
  },
  {
   "cell_type": "code",
   "execution_count": 4,
   "id": "906c5020",
   "metadata": {},
   "outputs": [
    {
     "data": {
      "text/html": [
       "<style  type=\"text/css\" >\n",
       "</style><table id=\"T_040be_\" ><thead>    <tr>        <th class=\"blank level0\" ></th>        <th class=\"col_heading level0 col0\" >Number of Unique Items</th>        <th class=\"col_heading level0 col1\" >Average Price</th>        <th class=\"col_heading level0 col2\" >Number of Purchases</th>        <th class=\"col_heading level0 col3\" >Total Revenue</th>    </tr></thead><tbody>\n",
       "                <tr>\n",
       "                        <th id=\"T_040be_level0_row0\" class=\"row_heading level0 row0\" >0</th>\n",
       "                        <td id=\"T_040be_row0_col0\" class=\"data row0 col0\" >179</td>\n",
       "                        <td id=\"T_040be_row0_col1\" class=\"data row0 col1\" >$3.05</td>\n",
       "                        <td id=\"T_040be_row0_col2\" class=\"data row0 col2\" >780</td>\n",
       "                        <td id=\"T_040be_row0_col3\" class=\"data row0 col3\" >$2,379.77</td>\n",
       "            </tr>\n",
       "    </tbody></table>"
      ],
      "text/plain": [
       "<pandas.io.formats.style.Styler at 0x240a3d9eee0>"
      ]
     },
     "execution_count": 4,
     "metadata": {},
     "output_type": "execute_result"
    }
   ],
   "source": [
    "#count number of unique items\n",
    "number_of_unique_items = purchase_df['Item Name'].nunique()\n",
    "number_of_unique_items\n",
    "#calculate average price\n",
    "average_price= purchase_df.Price.mean()\n",
    "average_price\n",
    "#count number of purchases\n",
    "num_purchases= purchase_df['Purchase ID'].count()\n",
    "num_purchases\n",
    "#sum total revenue\n",
    "total_revenue=purchase_df.Price.sum()\n",
    "total_revenue\n",
    "#place data in data frame and clean format\n",
    "summary1_df= pd.DataFrame({'Number of Unique Items':[number_of_unique_items],\n",
    "                          'Average Price':[average_price],\n",
    "                          'Number of Purchases':[num_purchases],\n",
    "                          'Total Revenue':[total_revenue]})\n",
    "#Print with formatting\n",
    "summary1_df.style.format({\"Average Price\":\"${:.2f}\",\n",
    "                          \"Total Revenue\":\"${:,.2f}\"})"
   ]
  },
  {
   "cell_type": "code",
   "execution_count": 5,
   "id": "1dee2cc6",
   "metadata": {},
   "outputs": [
    {
     "data": {
      "text/html": [
       "<style  type=\"text/css\" >\n",
       "</style><table id=\"T_08db4_\" ><thead>    <tr>        <th class=\"blank level0\" ></th>        <th class=\"col_heading level0 col0\" >Total Count</th>        <th class=\"col_heading level0 col1\" >Percentage of Players</th>    </tr>    <tr>        <th class=\"index_name level0\" >Gender</th>        <th class=\"blank\" ></th>        <th class=\"blank\" ></th>    </tr></thead><tbody>\n",
       "                <tr>\n",
       "                        <th id=\"T_08db4_level0_row0\" class=\"row_heading level0 row0\" >Male</th>\n",
       "                        <td id=\"T_08db4_row0_col0\" class=\"data row0 col0\" >484</td>\n",
       "                        <td id=\"T_08db4_row0_col1\" class=\"data row0 col1\" >84.03%</td>\n",
       "            </tr>\n",
       "            <tr>\n",
       "                        <th id=\"T_08db4_level0_row1\" class=\"row_heading level0 row1\" >Female</th>\n",
       "                        <td id=\"T_08db4_row1_col0\" class=\"data row1 col0\" >81</td>\n",
       "                        <td id=\"T_08db4_row1_col1\" class=\"data row1 col1\" >14.06%</td>\n",
       "            </tr>\n",
       "            <tr>\n",
       "                        <th id=\"T_08db4_level0_row2\" class=\"row_heading level0 row2\" >Other / Non-Disclosed</th>\n",
       "                        <td id=\"T_08db4_row2_col0\" class=\"data row2 col0\" >11</td>\n",
       "                        <td id=\"T_08db4_row2_col1\" class=\"data row2 col1\" >1.91%</td>\n",
       "            </tr>\n",
       "    </tbody></table>"
      ],
      "text/plain": [
       "<pandas.io.formats.style.Styler at 0x240a3d1a610>"
      ]
     },
     "execution_count": 5,
     "metadata": {},
     "output_type": "execute_result"
    }
   ],
   "source": [
    "#gender demographics\n",
    "#percentage and count of male players\n",
    "gender_count = purchase_df.groupby(\"Gender\")\n",
    "total_gender = gender_count.SN.nunique()\n",
    "gender_percent = total_gender / player_count *100\n",
    "gender_df = pd.DataFrame({'Total Count':total_gender,\n",
    "                          'Percentage of Players':gender_percent})\n",
    "gender_df\n",
    "#update formattig of dataframe\n",
    "gender_df.sort_values([\"Total Count\"],ascending=False).style.format({\"Percentage of Players\":\"{:.2f}%\"})"
   ]
  },
  {
   "cell_type": "code",
   "execution_count": 6,
   "id": "f78a7bfe",
   "metadata": {},
   "outputs": [
    {
     "data": {
      "text/html": [
       "<style  type=\"text/css\" >\n",
       "</style><table id=\"T_79270_\" ><thead>    <tr>        <th class=\"blank level0\" ></th>        <th class=\"col_heading level0 col0\" >Purchase Count</th>        <th class=\"col_heading level0 col1\" >Average Purchase Price</th>        <th class=\"col_heading level0 col2\" >Total Purchase Value</th>        <th class=\"col_heading level0 col3\" >Avg Total Purchase per Person</th>    </tr>    <tr>        <th class=\"index_name level0\" >Gender</th>        <th class=\"blank\" ></th>        <th class=\"blank\" ></th>        <th class=\"blank\" ></th>        <th class=\"blank\" ></th>    </tr></thead><tbody>\n",
       "                <tr>\n",
       "                        <th id=\"T_79270_level0_row0\" class=\"row_heading level0 row0\" >Female</th>\n",
       "                        <td id=\"T_79270_row0_col0\" class=\"data row0 col0\" >113</td>\n",
       "                        <td id=\"T_79270_row0_col1\" class=\"data row0 col1\" >$3.20</td>\n",
       "                        <td id=\"T_79270_row0_col2\" class=\"data row0 col2\" >$361.94</td>\n",
       "                        <td id=\"T_79270_row0_col3\" class=\"data row0 col3\" >$4.47</td>\n",
       "            </tr>\n",
       "            <tr>\n",
       "                        <th id=\"T_79270_level0_row1\" class=\"row_heading level0 row1\" >Male</th>\n",
       "                        <td id=\"T_79270_row1_col0\" class=\"data row1 col0\" >652</td>\n",
       "                        <td id=\"T_79270_row1_col1\" class=\"data row1 col1\" >$3.02</td>\n",
       "                        <td id=\"T_79270_row1_col2\" class=\"data row1 col2\" >$1,967.64</td>\n",
       "                        <td id=\"T_79270_row1_col3\" class=\"data row1 col3\" >$4.07</td>\n",
       "            </tr>\n",
       "            <tr>\n",
       "                        <th id=\"T_79270_level0_row2\" class=\"row_heading level0 row2\" >Other / Non-Disclosed</th>\n",
       "                        <td id=\"T_79270_row2_col0\" class=\"data row2 col0\" >15</td>\n",
       "                        <td id=\"T_79270_row2_col1\" class=\"data row2 col1\" >$3.35</td>\n",
       "                        <td id=\"T_79270_row2_col2\" class=\"data row2 col2\" >$50.19</td>\n",
       "                        <td id=\"T_79270_row2_col3\" class=\"data row2 col3\" >$4.56</td>\n",
       "            </tr>\n",
       "    </tbody></table>"
      ],
      "text/plain": [
       "<pandas.io.formats.style.Styler at 0x240a4f56f70>"
      ]
     },
     "execution_count": 6,
     "metadata": {},
     "output_type": "execute_result"
    }
   ],
   "source": [
    "#purchase analysis (gender)\n",
    "gender_count = purchase_df.groupby([\"Gender\"]).Price.count()\n",
    "gender_avg = purchase_df.groupby([\"Gender\"]).Price.mean()\n",
    "gender_purchase_total = purchase_df.groupby([\"Gender\"]).Price.sum()\n",
    "avg_per_person = gender_purchase_total / gender_df[\"Total Count\"]\n",
    "#dataframe file\n",
    "gender_data = pd.DataFrame({\"Purchase Count\": gender_count,\n",
    "                            \"Average Purchase Price\": gender_avg,\n",
    "                            \"Total Purchase Value\": gender_purchase_total,\n",
    "                            \"Avg Total Purchase per Person\": avg_per_person})\n",
    "#place in dataframe and clean formatting\n",
    "gender_data.style.format({\"Purchase Count\":\"{:.0f}\", \n",
    "                          \"Average Purchase Price\":\"${:.2f}\", \n",
    "                          \"Total Purchase Value\":\"${:,.2f}\",\n",
    "                          \"Avg Total Purchase per Person\":\"${:.2f}\"\n",
    "                         })"
   ]
  },
  {
   "cell_type": "code",
   "execution_count": 7,
   "id": "69959b20",
   "metadata": {},
   "outputs": [
    {
     "data": {
      "text/html": [
       "<style  type=\"text/css\" >\n",
       "</style><table id=\"T_6a739_\" ><thead>    <tr>        <th class=\"blank level0\" ></th>        <th class=\"col_heading level0 col0\" >Total Purchase Count</th>        <th class=\"col_heading level0 col1\" >Percentage of Players</th>    </tr></thead><tbody>\n",
       "                <tr>\n",
       "                        <th id=\"T_6a739_level0_row0\" class=\"row_heading level0 row0\" ><10</th>\n",
       "                        <td id=\"T_6a739_row0_col0\" class=\"data row0 col0\" >17</td>\n",
       "                        <td id=\"T_6a739_row0_col1\" class=\"data row0 col1\" >2.95%</td>\n",
       "            </tr>\n",
       "            <tr>\n",
       "                        <th id=\"T_6a739_level0_row1\" class=\"row_heading level0 row1\" >10-14</th>\n",
       "                        <td id=\"T_6a739_row1_col0\" class=\"data row1 col0\" >22</td>\n",
       "                        <td id=\"T_6a739_row1_col1\" class=\"data row1 col1\" >3.82%</td>\n",
       "            </tr>\n",
       "            <tr>\n",
       "                        <th id=\"T_6a739_level0_row2\" class=\"row_heading level0 row2\" >15-19</th>\n",
       "                        <td id=\"T_6a739_row2_col0\" class=\"data row2 col0\" >107</td>\n",
       "                        <td id=\"T_6a739_row2_col1\" class=\"data row2 col1\" >18.58%</td>\n",
       "            </tr>\n",
       "            <tr>\n",
       "                        <th id=\"T_6a739_level0_row3\" class=\"row_heading level0 row3\" >20-24</th>\n",
       "                        <td id=\"T_6a739_row3_col0\" class=\"data row3 col0\" >258</td>\n",
       "                        <td id=\"T_6a739_row3_col1\" class=\"data row3 col1\" >44.79%</td>\n",
       "            </tr>\n",
       "            <tr>\n",
       "                        <th id=\"T_6a739_level0_row4\" class=\"row_heading level0 row4\" >25-29</th>\n",
       "                        <td id=\"T_6a739_row4_col0\" class=\"data row4 col0\" >77</td>\n",
       "                        <td id=\"T_6a739_row4_col1\" class=\"data row4 col1\" >13.37%</td>\n",
       "            </tr>\n",
       "            <tr>\n",
       "                        <th id=\"T_6a739_level0_row5\" class=\"row_heading level0 row5\" >30-34</th>\n",
       "                        <td id=\"T_6a739_row5_col0\" class=\"data row5 col0\" >52</td>\n",
       "                        <td id=\"T_6a739_row5_col1\" class=\"data row5 col1\" >9.03%</td>\n",
       "            </tr>\n",
       "            <tr>\n",
       "                        <th id=\"T_6a739_level0_row6\" class=\"row_heading level0 row6\" >35-39</th>\n",
       "                        <td id=\"T_6a739_row6_col0\" class=\"data row6 col0\" >31</td>\n",
       "                        <td id=\"T_6a739_row6_col1\" class=\"data row6 col1\" >5.38%</td>\n",
       "            </tr>\n",
       "            <tr>\n",
       "                        <th id=\"T_6a739_level0_row7\" class=\"row_heading level0 row7\" >40+</th>\n",
       "                        <td id=\"T_6a739_row7_col0\" class=\"data row7 col0\" >12</td>\n",
       "                        <td id=\"T_6a739_row7_col1\" class=\"data row7 col1\" >2.08%</td>\n",
       "            </tr>\n",
       "    </tbody></table>"
      ],
      "text/plain": [
       "<pandas.io.formats.style.Styler at 0x240a4f63d60>"
      ]
     },
     "execution_count": 7,
     "metadata": {},
     "output_type": "execute_result"
    }
   ],
   "source": [
    "# bins\n",
    "bins = [0, 9.99, 14.99, 19.99, 24.99, 29.99, 34.99, 39.99, 999.99]\n",
    "titles = [\"<10\", \"10-14\", \"15-19\", \"20-24\", \"25-29\", \"30-34\", \"35-39\", \"40+\"]\n",
    "# Categorize players using age bins\n",
    "users_df[\"Age Ranges\"] = pd.cut(users_df[\"Age\"], bins, labels = titles)\n",
    "# total count and percentage of players by age\n",
    "age_demo_totals = users_df[\"Age Ranges\"].value_counts()\n",
    "age_demo_percents = age_demo_totals / player_count * 100\n",
    "# make data file\n",
    "age_demo = pd.DataFrame({\"Total Purchase Count\": age_demo_totals, \"Percentage of Players\": age_demo_percents})\n",
    "#format and insert dataframe\n",
    "age_demo.sort_index().style.format({\"Percentage of Players\":\"{:.2f}%\"})"
   ]
  },
  {
   "cell_type": "code",
   "execution_count": 8,
   "id": "4185bd25",
   "metadata": {},
   "outputs": [
    {
     "data": {
      "text/html": [
       "<style  type=\"text/css\" >\n",
       "</style><table id=\"T_82f25_\" ><thead>    <tr>        <th class=\"blank level0\" ></th>        <th class=\"col_heading level0 col0\" >Purchase Count</th>        <th class=\"col_heading level0 col1\" >Average Purchase Price</th>        <th class=\"col_heading level0 col2\" >total Purchase Value</th>        <th class=\"col_heading level0 col3\" >Avg Total Purchase per Person</th>    </tr></thead><tbody>\n",
       "                <tr>\n",
       "                        <th id=\"T_82f25_level0_row0\" class=\"row_heading level0 row0\" ><10</th>\n",
       "                        <td id=\"T_82f25_row0_col0\" class=\"data row0 col0\" >23</td>\n",
       "                        <td id=\"T_82f25_row0_col1\" class=\"data row0 col1\" >$3.35</td>\n",
       "                        <td id=\"T_82f25_row0_col2\" class=\"data row0 col2\" >$77.13</td>\n",
       "                        <td id=\"T_82f25_row0_col3\" class=\"data row0 col3\" >$4.54</td>\n",
       "            </tr>\n",
       "            <tr>\n",
       "                        <th id=\"T_82f25_level0_row1\" class=\"row_heading level0 row1\" >10-14</th>\n",
       "                        <td id=\"T_82f25_row1_col0\" class=\"data row1 col0\" >28</td>\n",
       "                        <td id=\"T_82f25_row1_col1\" class=\"data row1 col1\" >$2.96</td>\n",
       "                        <td id=\"T_82f25_row1_col2\" class=\"data row1 col2\" >$82.78</td>\n",
       "                        <td id=\"T_82f25_row1_col3\" class=\"data row1 col3\" >$3.76</td>\n",
       "            </tr>\n",
       "            <tr>\n",
       "                        <th id=\"T_82f25_level0_row2\" class=\"row_heading level0 row2\" >15-19</th>\n",
       "                        <td id=\"T_82f25_row2_col0\" class=\"data row2 col0\" >136</td>\n",
       "                        <td id=\"T_82f25_row2_col1\" class=\"data row2 col1\" >$3.04</td>\n",
       "                        <td id=\"T_82f25_row2_col2\" class=\"data row2 col2\" >$412.89</td>\n",
       "                        <td id=\"T_82f25_row2_col3\" class=\"data row2 col3\" >$3.86</td>\n",
       "            </tr>\n",
       "            <tr>\n",
       "                        <th id=\"T_82f25_level0_row3\" class=\"row_heading level0 row3\" >20-24</th>\n",
       "                        <td id=\"T_82f25_row3_col0\" class=\"data row3 col0\" >365</td>\n",
       "                        <td id=\"T_82f25_row3_col1\" class=\"data row3 col1\" >$3.05</td>\n",
       "                        <td id=\"T_82f25_row3_col2\" class=\"data row3 col2\" >$1,114.06</td>\n",
       "                        <td id=\"T_82f25_row3_col3\" class=\"data row3 col3\" >$4.32</td>\n",
       "            </tr>\n",
       "            <tr>\n",
       "                        <th id=\"T_82f25_level0_row4\" class=\"row_heading level0 row4\" >25-29</th>\n",
       "                        <td id=\"T_82f25_row4_col0\" class=\"data row4 col0\" >101</td>\n",
       "                        <td id=\"T_82f25_row4_col1\" class=\"data row4 col1\" >$2.90</td>\n",
       "                        <td id=\"T_82f25_row4_col2\" class=\"data row4 col2\" >$293.00</td>\n",
       "                        <td id=\"T_82f25_row4_col3\" class=\"data row4 col3\" >$3.81</td>\n",
       "            </tr>\n",
       "            <tr>\n",
       "                        <th id=\"T_82f25_level0_row5\" class=\"row_heading level0 row5\" >30-34</th>\n",
       "                        <td id=\"T_82f25_row5_col0\" class=\"data row5 col0\" >73</td>\n",
       "                        <td id=\"T_82f25_row5_col1\" class=\"data row5 col1\" >$2.93</td>\n",
       "                        <td id=\"T_82f25_row5_col2\" class=\"data row5 col2\" >$214.00</td>\n",
       "                        <td id=\"T_82f25_row5_col3\" class=\"data row5 col3\" >$4.12</td>\n",
       "            </tr>\n",
       "            <tr>\n",
       "                        <th id=\"T_82f25_level0_row6\" class=\"row_heading level0 row6\" >35-39</th>\n",
       "                        <td id=\"T_82f25_row6_col0\" class=\"data row6 col0\" >41</td>\n",
       "                        <td id=\"T_82f25_row6_col1\" class=\"data row6 col1\" >$3.60</td>\n",
       "                        <td id=\"T_82f25_row6_col2\" class=\"data row6 col2\" >$147.67</td>\n",
       "                        <td id=\"T_82f25_row6_col3\" class=\"data row6 col3\" >$4.76</td>\n",
       "            </tr>\n",
       "            <tr>\n",
       "                        <th id=\"T_82f25_level0_row7\" class=\"row_heading level0 row7\" >40+</th>\n",
       "                        <td id=\"T_82f25_row7_col0\" class=\"data row7 col0\" >13</td>\n",
       "                        <td id=\"T_82f25_row7_col1\" class=\"data row7 col1\" >$2.94</td>\n",
       "                        <td id=\"T_82f25_row7_col2\" class=\"data row7 col2\" >$38.24</td>\n",
       "                        <td id=\"T_82f25_row7_col3\" class=\"data row7 col3\" >$3.19</td>\n",
       "            </tr>\n",
       "    </tbody></table>"
      ],
      "text/plain": [
       "<pandas.io.formats.style.Styler at 0x240a4f69550>"
      ]
     },
     "execution_count": 8,
     "metadata": {},
     "output_type": "execute_result"
    }
   ],
   "source": [
    "#Purchase Analysis (Age)\n",
    "#place purchase data into age bins\n",
    "purchase_df[\"Age Ranges\"] =pd.cut(purchase_df[\"Age\"], bins, labels=titles)\n",
    "#purchase count, avg. purch price, avg purch price per person, by age\n",
    "age_total_purch=purchase_df.groupby([\"Age Ranges\"]).Price.sum()\n",
    "age_count=purchase_df.groupby([\"Age Ranges\"]).Price.count()\n",
    "age_avg_purch=purchase_df.groupby([\"Age Ranges\"]).Price.mean()\n",
    "age_avg_per_person=age_total_purch/age_demo[\"Total Purchase Count\"]\n",
    "#create a data frame for age purchase analysis\n",
    "age_data= pd.DataFrame({\"Purchase Count\":age_count,\n",
    "                        \"Average Purchase Price\":age_avg_purch,\n",
    "                        \"total Purchase Value\": age_total_purch,\n",
    "                        \"Avg Total Purchase per Person\": age_avg_per_person\n",
    "                       })\n",
    "#format data frame and print it out\n",
    "age_data.style.format({\"Purchase Count\":\"{:.0f}\",\n",
    "                       \"Average Purchase Price\":\"${:.2f}\",\n",
    "                       \"total Purchase Value\":\"${:,.2f}\",\n",
    "                       \"Avg Total Purchase per Person\":\"${:.2f}\",})"
   ]
  },
  {
   "cell_type": "code",
   "execution_count": 9,
   "id": "ff1785f1",
   "metadata": {},
   "outputs": [
    {
     "data": {
      "text/html": [
       "<style  type=\"text/css\" >\n",
       "</style><table id=\"T_467e7_\" ><thead>    <tr>        <th class=\"blank level0\" ></th>        <th class=\"col_heading level0 col0\" >Purchase Count</th>        <th class=\"col_heading level0 col1\" >Average Purchase Price</th>        <th class=\"col_heading level0 col2\" >Total Purchase Value</th>    </tr>    <tr>        <th class=\"index_name level0\" >SN</th>        <th class=\"blank\" ></th>        <th class=\"blank\" ></th>        <th class=\"blank\" ></th>    </tr></thead><tbody>\n",
       "                <tr>\n",
       "                        <th id=\"T_467e7_level0_row0\" class=\"row_heading level0 row0\" >Lisosia93</th>\n",
       "                        <td id=\"T_467e7_row0_col0\" class=\"data row0 col0\" >5</td>\n",
       "                        <td id=\"T_467e7_row0_col1\" class=\"data row0 col1\" >$3.79</td>\n",
       "                        <td id=\"T_467e7_row0_col2\" class=\"data row0 col2\" >$18.96</td>\n",
       "            </tr>\n",
       "            <tr>\n",
       "                        <th id=\"T_467e7_level0_row1\" class=\"row_heading level0 row1\" >Idastidru52</th>\n",
       "                        <td id=\"T_467e7_row1_col0\" class=\"data row1 col0\" >4</td>\n",
       "                        <td id=\"T_467e7_row1_col1\" class=\"data row1 col1\" >$3.86</td>\n",
       "                        <td id=\"T_467e7_row1_col2\" class=\"data row1 col2\" >$15.45</td>\n",
       "            </tr>\n",
       "            <tr>\n",
       "                        <th id=\"T_467e7_level0_row2\" class=\"row_heading level0 row2\" >Chamjask73</th>\n",
       "                        <td id=\"T_467e7_row2_col0\" class=\"data row2 col0\" >3</td>\n",
       "                        <td id=\"T_467e7_row2_col1\" class=\"data row2 col1\" >$4.61</td>\n",
       "                        <td id=\"T_467e7_row2_col2\" class=\"data row2 col2\" >$13.83</td>\n",
       "            </tr>\n",
       "            <tr>\n",
       "                        <th id=\"T_467e7_level0_row3\" class=\"row_heading level0 row3\" >Iral74</th>\n",
       "                        <td id=\"T_467e7_row3_col0\" class=\"data row3 col0\" >4</td>\n",
       "                        <td id=\"T_467e7_row3_col1\" class=\"data row3 col1\" >$3.40</td>\n",
       "                        <td id=\"T_467e7_row3_col2\" class=\"data row3 col2\" >$13.62</td>\n",
       "            </tr>\n",
       "            <tr>\n",
       "                        <th id=\"T_467e7_level0_row4\" class=\"row_heading level0 row4\" >Iskadarya95</th>\n",
       "                        <td id=\"T_467e7_row4_col0\" class=\"data row4 col0\" >3</td>\n",
       "                        <td id=\"T_467e7_row4_col1\" class=\"data row4 col1\" >$4.37</td>\n",
       "                        <td id=\"T_467e7_row4_col2\" class=\"data row4 col2\" >$13.10</td>\n",
       "            </tr>\n",
       "    </tbody></table>"
      ],
      "text/plain": [
       "<pandas.io.formats.style.Styler at 0x240a4f63130>"
      ]
     },
     "execution_count": 9,
     "metadata": {},
     "output_type": "execute_result"
    }
   ],
   "source": [
    "#Top Spenders\n",
    "#purchase count, avg purchase price, total purchase value\n",
    "purchase_gb=purchase_df.groupby([\"SN\"])\n",
    "purchase_count=purchase_gb.Price.count()\n",
    "purchase_avg_price=purchase_gb.Price.mean()\n",
    "purchase_total_value=purchase_gb.Price.sum()\n",
    "#Make Data frame\n",
    "top_spend_df=pd.DataFrame({\"Purchase Count\":purchase_count,\n",
    "                          \"Average Purchase Price\":purchase_avg_price,\n",
    "                          \"Total Purchase Value\":purchase_total_value\n",
    "                         })\n",
    "top_spend_df.sort_values(\"Total Purchase Value\", ascending=False, inplace=True)\n",
    "#Print first 5 rows with formatting\n",
    "top_spend_df.head().style.format({\"Purchase Count\":\"{:.0f}\",\n",
    "                          \"Average Purchase Price\":\"${:.2f}\",\n",
    "                          \"Total Purchase Value\":\"${:.2f}\",})"
   ]
  },
  {
   "cell_type": "code",
   "execution_count": 10,
   "id": "5132dd70",
   "metadata": {},
   "outputs": [
    {
     "data": {
      "text/html": [
       "<style  type=\"text/css\" >\n",
       "</style><table id=\"T_872e7_\" ><thead>    <tr>        <th class=\"blank\" ></th>        <th class=\"blank level0\" ></th>        <th class=\"col_heading level0 col0\" >Purchase Count</th>        <th class=\"col_heading level0 col1\" >Item Price</th>        <th class=\"col_heading level0 col2\" >Total Purchase Value</th>    </tr>    <tr>        <th class=\"index_name level0\" >Item ID</th>        <th class=\"index_name level1\" >Item Name</th>        <th class=\"blank\" ></th>        <th class=\"blank\" ></th>        <th class=\"blank\" ></th>    </tr></thead><tbody>\n",
       "                <tr>\n",
       "                        <th id=\"T_872e7_level0_row0\" class=\"row_heading level0 row0\" >92</th>\n",
       "                        <th id=\"T_872e7_level1_row0\" class=\"row_heading level1 row0\" >Final Critic</th>\n",
       "                        <td id=\"T_872e7_row0_col0\" class=\"data row0 col0\" >13</td>\n",
       "                        <td id=\"T_872e7_row0_col1\" class=\"data row0 col1\" >$4.61</td>\n",
       "                        <td id=\"T_872e7_row0_col2\" class=\"data row0 col2\" >$59.99</td>\n",
       "            </tr>\n",
       "            <tr>\n",
       "                        <th id=\"T_872e7_level0_row1\" class=\"row_heading level0 row1\" >178</th>\n",
       "                        <th id=\"T_872e7_level1_row1\" class=\"row_heading level1 row1\" >Oathbreaker, Last Hope of the Breaking Storm</th>\n",
       "                        <td id=\"T_872e7_row1_col0\" class=\"data row1 col0\" >12</td>\n",
       "                        <td id=\"T_872e7_row1_col1\" class=\"data row1 col1\" >$4.23</td>\n",
       "                        <td id=\"T_872e7_row1_col2\" class=\"data row1 col2\" >$50.76</td>\n",
       "            </tr>\n",
       "            <tr>\n",
       "                        <th id=\"T_872e7_level0_row2\" class=\"row_heading level0 row2\" >145</th>\n",
       "                        <th id=\"T_872e7_level1_row2\" class=\"row_heading level1 row2\" >Fiery Glass Crusader</th>\n",
       "                        <td id=\"T_872e7_row2_col0\" class=\"data row2 col0\" >9</td>\n",
       "                        <td id=\"T_872e7_row2_col1\" class=\"data row2 col1\" >$4.58</td>\n",
       "                        <td id=\"T_872e7_row2_col2\" class=\"data row2 col2\" >$41.22</td>\n",
       "            </tr>\n",
       "            <tr>\n",
       "                        <th id=\"T_872e7_level0_row3\" class=\"row_heading level0 row3\" >132</th>\n",
       "                        <th id=\"T_872e7_level1_row3\" class=\"row_heading level1 row3\" >Persuasion</th>\n",
       "                        <td id=\"T_872e7_row3_col0\" class=\"data row3 col0\" >9</td>\n",
       "                        <td id=\"T_872e7_row3_col1\" class=\"data row3 col1\" >$3.22</td>\n",
       "                        <td id=\"T_872e7_row3_col2\" class=\"data row3 col2\" >$28.99</td>\n",
       "            </tr>\n",
       "            <tr>\n",
       "                        <th id=\"T_872e7_level0_row4\" class=\"row_heading level0 row4\" >108</th>\n",
       "                        <th id=\"T_872e7_level1_row4\" class=\"row_heading level1 row4\" >Extraction, Quickblade Of Trembling Hands</th>\n",
       "                        <td id=\"T_872e7_row4_col0\" class=\"data row4 col0\" >9</td>\n",
       "                        <td id=\"T_872e7_row4_col1\" class=\"data row4 col1\" >$3.53</td>\n",
       "                        <td id=\"T_872e7_row4_col2\" class=\"data row4 col2\" >$31.77</td>\n",
       "            </tr>\n",
       "    </tbody></table>"
      ],
      "text/plain": [
       "<pandas.io.formats.style.Styler at 0x240a4c6fa60>"
      ]
     },
     "execution_count": 10,
     "metadata": {},
     "output_type": "execute_result"
    }
   ],
   "source": [
    "#Most Popular items\n",
    "item_df=purchase_df[[\"Item ID\",\"Item Name\", \"Price\"]]\n",
    "item_gb=item_df.groupby([\"Item ID\",\"Item Name\"])\n",
    "purchase_item=item_gb.Price.count()\n",
    "total_item=item_gb.Price.sum()\n",
    "price_item=item_gb.Price.mean()\n",
    "#create a data frame for most popular items\n",
    "item_df=pd.DataFrame({\"Purchase Count\":purchase_item,\n",
    "                      \"Item Price\":price_item,\n",
    "                      \"Total Purchase Value\":total_item})\n",
    "#sort the data frame in descending order\n",
    "item_df.sort_values(\"Purchase Count\", ascending=False, inplace=True)\n",
    "#Print first 5 rows with formatting\n",
    "item_df.head().style.format({\"Purchase Count\":\"{:.0f}\",\n",
    "                      \"Item Price\":\"${:.2f}\",\n",
    "                      \"Total Purchase Value\":\"${:.2f}\",})"
   ]
  },
  {
   "cell_type": "code",
   "execution_count": 11,
   "id": "5b1e89a7",
   "metadata": {},
   "outputs": [
    {
     "data": {
      "text/html": [
       "<style  type=\"text/css\" >\n",
       "</style><table id=\"T_1dfd8_\" ><thead>    <tr>        <th class=\"blank\" ></th>        <th class=\"blank level0\" ></th>        <th class=\"col_heading level0 col0\" >Purchase Count</th>        <th class=\"col_heading level0 col1\" >Item Price</th>        <th class=\"col_heading level0 col2\" >Total Purchase Value</th>    </tr>    <tr>        <th class=\"index_name level0\" >Item ID</th>        <th class=\"index_name level1\" >Item Name</th>        <th class=\"blank\" ></th>        <th class=\"blank\" ></th>        <th class=\"blank\" ></th>    </tr></thead><tbody>\n",
       "                <tr>\n",
       "                        <th id=\"T_1dfd8_level0_row0\" class=\"row_heading level0 row0\" >92</th>\n",
       "                        <th id=\"T_1dfd8_level1_row0\" class=\"row_heading level1 row0\" >Final Critic</th>\n",
       "                        <td id=\"T_1dfd8_row0_col0\" class=\"data row0 col0\" >13</td>\n",
       "                        <td id=\"T_1dfd8_row0_col1\" class=\"data row0 col1\" >$4.61</td>\n",
       "                        <td id=\"T_1dfd8_row0_col2\" class=\"data row0 col2\" >$59.99</td>\n",
       "            </tr>\n",
       "            <tr>\n",
       "                        <th id=\"T_1dfd8_level0_row1\" class=\"row_heading level0 row1\" >178</th>\n",
       "                        <th id=\"T_1dfd8_level1_row1\" class=\"row_heading level1 row1\" >Oathbreaker, Last Hope of the Breaking Storm</th>\n",
       "                        <td id=\"T_1dfd8_row1_col0\" class=\"data row1 col0\" >12</td>\n",
       "                        <td id=\"T_1dfd8_row1_col1\" class=\"data row1 col1\" >$4.23</td>\n",
       "                        <td id=\"T_1dfd8_row1_col2\" class=\"data row1 col2\" >$50.76</td>\n",
       "            </tr>\n",
       "            <tr>\n",
       "                        <th id=\"T_1dfd8_level0_row2\" class=\"row_heading level0 row2\" >82</th>\n",
       "                        <th id=\"T_1dfd8_level1_row2\" class=\"row_heading level1 row2\" >Nirvana</th>\n",
       "                        <td id=\"T_1dfd8_row2_col0\" class=\"data row2 col0\" >9</td>\n",
       "                        <td id=\"T_1dfd8_row2_col1\" class=\"data row2 col1\" >$4.90</td>\n",
       "                        <td id=\"T_1dfd8_row2_col2\" class=\"data row2 col2\" >$44.10</td>\n",
       "            </tr>\n",
       "            <tr>\n",
       "                        <th id=\"T_1dfd8_level0_row3\" class=\"row_heading level0 row3\" >145</th>\n",
       "                        <th id=\"T_1dfd8_level1_row3\" class=\"row_heading level1 row3\" >Fiery Glass Crusader</th>\n",
       "                        <td id=\"T_1dfd8_row3_col0\" class=\"data row3 col0\" >9</td>\n",
       "                        <td id=\"T_1dfd8_row3_col1\" class=\"data row3 col1\" >$4.58</td>\n",
       "                        <td id=\"T_1dfd8_row3_col2\" class=\"data row3 col2\" >$41.22</td>\n",
       "            </tr>\n",
       "            <tr>\n",
       "                        <th id=\"T_1dfd8_level0_row4\" class=\"row_heading level0 row4\" >103</th>\n",
       "                        <th id=\"T_1dfd8_level1_row4\" class=\"row_heading level1 row4\" >Singed Scalpel</th>\n",
       "                        <td id=\"T_1dfd8_row4_col0\" class=\"data row4 col0\" >8</td>\n",
       "                        <td id=\"T_1dfd8_row4_col1\" class=\"data row4 col1\" >$4.35</td>\n",
       "                        <td id=\"T_1dfd8_row4_col2\" class=\"data row4 col2\" >$34.80</td>\n",
       "            </tr>\n",
       "    </tbody></table>"
      ],
      "text/plain": [
       "<pandas.io.formats.style.Styler at 0x240a4f69a60>"
      ]
     },
     "execution_count": 11,
     "metadata": {},
     "output_type": "execute_result"
    }
   ],
   "source": [
    "#Most Profitable Items\n",
    "item_df=purchase_df[[\"Item ID\",\"Item Name\", \"Price\"]]\n",
    "item_gb=item_df.groupby([\"Item ID\",\"Item Name\"])\n",
    "purchase_item=item_gb.Price.count()\n",
    "total_item=item_gb.Price.sum()\n",
    "price_item=item_gb.Price.mean()\n",
    "#create data frame for most profitable items\n",
    "item_df=pd.DataFrame({\"Purchase Count\":purchase_item,\n",
    "                      \"Item Price\":price_item,\n",
    "                      \"Total Purchase Value\":total_item})\n",
    "#sort the data frame in ascending order\n",
    "item_df.sort_values(\"Total Purchase Value\", ascending=False, inplace=True)\n",
    "#Print first 5 rows with formatting\n",
    "item_df.head().style.format({\"Purchase Count\":\"{:.0f}\",\n",
    "                             \"Item Price\":\"${:.2f}\",\n",
    "                             \"Total Purchase Value\":\"${:.2f}\"})"
   ]
  }
 ],
 "metadata": {
  "kernelspec": {
   "display_name": "Python 3",
   "language": "python",
   "name": "python3"
  },
  "language_info": {
   "codemirror_mode": {
    "name": "ipython",
    "version": 3
   },
   "file_extension": ".py",
   "mimetype": "text/x-python",
   "name": "python",
   "nbconvert_exporter": "python",
   "pygments_lexer": "ipython3",
   "version": "3.8.8"
  }
 },
 "nbformat": 4,
 "nbformat_minor": 5
}
