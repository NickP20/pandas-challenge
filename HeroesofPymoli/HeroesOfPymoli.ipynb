{
 "cells": [
  {
   "cell_type": "code",
   "execution_count": 294,
   "id": "6bc9d602",
   "metadata": {},
   "outputs": [],
   "source": [
    "#Import Dependencies\n",
    "import pandas as pd"
   ]
  },
  {
   "cell_type": "code",
   "execution_count": 295,
   "id": "a417ee2e",
   "metadata": {
    "scrolled": true
   },
   "outputs": [],
   "source": [
    "#File to Load\n",
    "fpath = \"Resources/purchase_data.csv\"\n",
    "#Reading and storing of file into pandas\n",
    "purchase_df = pd.read_csv(fpath)\n",
    "#purchase_df.head()"
   ]
  },
  {
   "cell_type": "code",
   "execution_count": 296,
   "id": "baeea02e",
   "metadata": {},
   "outputs": [
    {
     "data": {
      "text/html": [
       "<div>\n",
       "<style scoped>\n",
       "    .dataframe tbody tr th:only-of-type {\n",
       "        vertical-align: middle;\n",
       "    }\n",
       "\n",
       "    .dataframe tbody tr th {\n",
       "        vertical-align: top;\n",
       "    }\n",
       "\n",
       "    .dataframe thead th {\n",
       "        text-align: right;\n",
       "    }\n",
       "</style>\n",
       "<table border=\"1\" class=\"dataframe\">\n",
       "  <thead>\n",
       "    <tr style=\"text-align: right;\">\n",
       "      <th></th>\n",
       "      <th>Total Players</th>\n",
       "    </tr>\n",
       "  </thead>\n",
       "  <tbody>\n",
       "    <tr>\n",
       "      <th>0</th>\n",
       "      <td>576</td>\n",
       "    </tr>\n",
       "  </tbody>\n",
       "</table>\n",
       "</div>"
      ],
      "text/plain": [
       "   Total Players\n",
       "0            576"
      ]
     },
     "execution_count": 296,
     "metadata": {},
     "output_type": "execute_result"
    }
   ],
   "source": [
    "#Total num of unique players\n",
    "users_df = purchase_df.loc[:,[\"SN\",\"Age\"]]\n",
    "users_df = users_df.drop_duplicates()\n",
    "player_count = users_df.drop_duplicates()\n",
    "player_count = player_count.SN.count()\n",
    "#create dataframe\n",
    "summary_df= pd.DataFrame({'Total Players': [player_count]})\n",
    "summary_df"
   ]
  },
  {
   "cell_type": "code",
   "execution_count": 297,
   "id": "906c5020",
   "metadata": {},
   "outputs": [
    {
     "data": {
      "text/html": [
       "<style  type=\"text/css\" >\n",
       "</style><table id=\"T_adc90_\" ><thead>    <tr>        <th class=\"blank level0\" ></th>        <th class=\"col_heading level0 col0\" >Number of Unique Items</th>        <th class=\"col_heading level0 col1\" >Average Price</th>        <th class=\"col_heading level0 col2\" >Number of Purchases</th>        <th class=\"col_heading level0 col3\" >Total Revenue</th>    </tr></thead><tbody>\n",
       "                <tr>\n",
       "                        <th id=\"T_adc90_level0_row0\" class=\"row_heading level0 row0\" >0</th>\n",
       "                        <td id=\"T_adc90_row0_col0\" class=\"data row0 col0\" >179</td>\n",
       "                        <td id=\"T_adc90_row0_col1\" class=\"data row0 col1\" >$3.05</td>\n",
       "                        <td id=\"T_adc90_row0_col2\" class=\"data row0 col2\" >780</td>\n",
       "                        <td id=\"T_adc90_row0_col3\" class=\"data row0 col3\" >$2,379.77</td>\n",
       "            </tr>\n",
       "    </tbody></table>"
      ],
      "text/plain": [
       "<pandas.io.formats.style.Styler at 0x27b68a04430>"
      ]
     },
     "execution_count": 297,
     "metadata": {},
     "output_type": "execute_result"
    }
   ],
   "source": [
    "#count number of unique items\n",
    "number_of_unique_items = purchase_df['Item Name'].nunique()\n",
    "number_of_unique_items\n",
    "#calculate average price\n",
    "average_price= purchase_df.Price.mean()\n",
    "average_price\n",
    "#count number of purchases\n",
    "num_purchases= purchase_df['Purchase ID'].count()\n",
    "num_purchases\n",
    "#sum total revenue\n",
    "total_revenue=purchase_df.Price.sum()\n",
    "total_revenue\n",
    "\n",
    "#place data in data frame and clean format\n",
    "summary1_df= pd.DataFrame({'Number of Unique Items':[number_of_unique_items],\n",
    "                          'Average Price':[average_price],\n",
    "                          'Number of Purchases':[num_purchases],\n",
    "                          'Total Revenue':[total_revenue]})\n",
    "#Print with formatting\n",
    "summary1_df.style.format({\"Average Price\":\"${:.2f}\",\n",
    "                          \"Total Revenue\":\"${:,.2f}\"})"
   ]
  },
  {
   "cell_type": "code",
   "execution_count": 298,
   "id": "1dee2cc6",
   "metadata": {},
   "outputs": [
    {
     "data": {
      "text/html": [
       "<style  type=\"text/css\" >\n",
       "</style><table id=\"T_780cc_\" ><thead>    <tr>        <th class=\"blank level0\" ></th>        <th class=\"col_heading level0 col0\" >Total Count</th>        <th class=\"col_heading level0 col1\" >Percentage of Players</th>    </tr>    <tr>        <th class=\"index_name level0\" >Gender</th>        <th class=\"blank\" ></th>        <th class=\"blank\" ></th>    </tr></thead><tbody>\n",
       "                <tr>\n",
       "                        <th id=\"T_780cc_level0_row0\" class=\"row_heading level0 row0\" >Male</th>\n",
       "                        <td id=\"T_780cc_row0_col0\" class=\"data row0 col0\" >484</td>\n",
       "                        <td id=\"T_780cc_row0_col1\" class=\"data row0 col1\" >84.03%</td>\n",
       "            </tr>\n",
       "            <tr>\n",
       "                        <th id=\"T_780cc_level0_row1\" class=\"row_heading level0 row1\" >Female</th>\n",
       "                        <td id=\"T_780cc_row1_col0\" class=\"data row1 col0\" >81</td>\n",
       "                        <td id=\"T_780cc_row1_col1\" class=\"data row1 col1\" >14.06%</td>\n",
       "            </tr>\n",
       "            <tr>\n",
       "                        <th id=\"T_780cc_level0_row2\" class=\"row_heading level0 row2\" >Other / Non-Disclosed</th>\n",
       "                        <td id=\"T_780cc_row2_col0\" class=\"data row2 col0\" >11</td>\n",
       "                        <td id=\"T_780cc_row2_col1\" class=\"data row2 col1\" >1.91%</td>\n",
       "            </tr>\n",
       "    </tbody></table>"
      ],
      "text/plain": [
       "<pandas.io.formats.style.Styler at 0x27b6897c5b0>"
      ]
     },
     "execution_count": 298,
     "metadata": {},
     "output_type": "execute_result"
    }
   ],
   "source": [
    "#gender demographics\n",
    "#percentage and count of male players\n",
    "gender_count = purchase_df.groupby(\"Gender\")\n",
    "\n",
    "total_gender = gender_count.SN.nunique()\n",
    "\n",
    "gender_percent = total_gender / player_count *100\n",
    "\n",
    "gender_df = pd.DataFrame({'Total Count':total_gender,\n",
    "                          'Percentage of Players':gender_percent})\n",
    "\n",
    "gender_df\n",
    "#update formattig of dataframe\n",
    "gender_df.sort_values([\"Total Count\"],ascending=False).style.format({\"Percentage of Players\":\"{:.2f}%\"})"
   ]
  },
  {
   "cell_type": "code",
   "execution_count": 299,
   "id": "f78a7bfe",
   "metadata": {},
   "outputs": [
    {
     "data": {
      "text/html": [
       "<style  type=\"text/css\" >\n",
       "</style><table id=\"T_ac202_\" ><thead>    <tr>        <th class=\"blank level0\" ></th>        <th class=\"col_heading level0 col0\" >Purchase Count</th>        <th class=\"col_heading level0 col1\" >Average Purchase Price</th>        <th class=\"col_heading level0 col2\" >Total Purchase Value</th>        <th class=\"col_heading level0 col3\" >Avg Total Purchase per Person</th>    </tr>    <tr>        <th class=\"index_name level0\" >Gender</th>        <th class=\"blank\" ></th>        <th class=\"blank\" ></th>        <th class=\"blank\" ></th>        <th class=\"blank\" ></th>    </tr></thead><tbody>\n",
       "                <tr>\n",
       "                        <th id=\"T_ac202_level0_row0\" class=\"row_heading level0 row0\" >Female</th>\n",
       "                        <td id=\"T_ac202_row0_col0\" class=\"data row0 col0\" >113</td>\n",
       "                        <td id=\"T_ac202_row0_col1\" class=\"data row0 col1\" >$3.20</td>\n",
       "                        <td id=\"T_ac202_row0_col2\" class=\"data row0 col2\" >$361.94</td>\n",
       "                        <td id=\"T_ac202_row0_col3\" class=\"data row0 col3\" >$4.47</td>\n",
       "            </tr>\n",
       "            <tr>\n",
       "                        <th id=\"T_ac202_level0_row1\" class=\"row_heading level0 row1\" >Male</th>\n",
       "                        <td id=\"T_ac202_row1_col0\" class=\"data row1 col0\" >652</td>\n",
       "                        <td id=\"T_ac202_row1_col1\" class=\"data row1 col1\" >$3.02</td>\n",
       "                        <td id=\"T_ac202_row1_col2\" class=\"data row1 col2\" >$1,967.64</td>\n",
       "                        <td id=\"T_ac202_row1_col3\" class=\"data row1 col3\" >$4.07</td>\n",
       "            </tr>\n",
       "            <tr>\n",
       "                        <th id=\"T_ac202_level0_row2\" class=\"row_heading level0 row2\" >Other / Non-Disclosed</th>\n",
       "                        <td id=\"T_ac202_row2_col0\" class=\"data row2 col0\" >15</td>\n",
       "                        <td id=\"T_ac202_row2_col1\" class=\"data row2 col1\" >$3.35</td>\n",
       "                        <td id=\"T_ac202_row2_col2\" class=\"data row2 col2\" >$50.19</td>\n",
       "                        <td id=\"T_ac202_row2_col3\" class=\"data row2 col3\" >$4.56</td>\n",
       "            </tr>\n",
       "    </tbody></table>"
      ],
      "text/plain": [
       "<pandas.io.formats.style.Styler at 0x27b68a043d0>"
      ]
     },
     "execution_count": 299,
     "metadata": {},
     "output_type": "execute_result"
    }
   ],
   "source": [
    "#purchase analysis (gender)\n",
    "gender_count = purchase_df.groupby([\"Gender\"]).Price.count()\n",
    "gender_avg = purchase_df.groupby([\"Gender\"]).Price.mean()\n",
    "gender_purchase_total = purchase_df.groupby([\"Gender\"]).Price.sum()\n",
    "avg_per_person = gender_purchase_total / gender_df[\"Total Count\"]\n",
    "\n",
    "#dataframe file\n",
    "gender_data = pd.DataFrame({\"Purchase Count\": gender_count,\n",
    "                            \"Average Purchase Price\": gender_avg,\n",
    "                            \"Total Purchase Value\": gender_purchase_total,\n",
    "                            \"Avg Total Purchase per Person\": avg_per_person})\n",
    "\n",
    "#place in dataframe and clean formatting\n",
    "gender_data.style.format({\"Purchase Count\":\"{:.0f}\", \n",
    "                          \"Average Purchase Price\":\"${:.2f}\", \n",
    "                          \"Total Purchase Value\":\"${:,.2f}\",\n",
    "                          \"Avg Total Purchase per Person\":\"${:.2f}\"\n",
    "                         })"
   ]
  },
  {
   "cell_type": "code",
   "execution_count": 300,
   "id": "69959b20",
   "metadata": {},
   "outputs": [
    {
     "data": {
      "text/html": [
       "<style  type=\"text/css\" >\n",
       "</style><table id=\"T_b64d6_\" ><thead>    <tr>        <th class=\"blank level0\" ></th>        <th class=\"col_heading level0 col0\" >Total Purchase Count</th>        <th class=\"col_heading level0 col1\" >Percentage of Players</th>    </tr></thead><tbody>\n",
       "                <tr>\n",
       "                        <th id=\"T_b64d6_level0_row0\" class=\"row_heading level0 row0\" ><10</th>\n",
       "                        <td id=\"T_b64d6_row0_col0\" class=\"data row0 col0\" >17</td>\n",
       "                        <td id=\"T_b64d6_row0_col1\" class=\"data row0 col1\" >2.95%</td>\n",
       "            </tr>\n",
       "            <tr>\n",
       "                        <th id=\"T_b64d6_level0_row1\" class=\"row_heading level0 row1\" >10-14</th>\n",
       "                        <td id=\"T_b64d6_row1_col0\" class=\"data row1 col0\" >22</td>\n",
       "                        <td id=\"T_b64d6_row1_col1\" class=\"data row1 col1\" >3.82%</td>\n",
       "            </tr>\n",
       "            <tr>\n",
       "                        <th id=\"T_b64d6_level0_row2\" class=\"row_heading level0 row2\" >15-19</th>\n",
       "                        <td id=\"T_b64d6_row2_col0\" class=\"data row2 col0\" >107</td>\n",
       "                        <td id=\"T_b64d6_row2_col1\" class=\"data row2 col1\" >18.58%</td>\n",
       "            </tr>\n",
       "            <tr>\n",
       "                        <th id=\"T_b64d6_level0_row3\" class=\"row_heading level0 row3\" >20-24</th>\n",
       "                        <td id=\"T_b64d6_row3_col0\" class=\"data row3 col0\" >258</td>\n",
       "                        <td id=\"T_b64d6_row3_col1\" class=\"data row3 col1\" >44.79%</td>\n",
       "            </tr>\n",
       "            <tr>\n",
       "                        <th id=\"T_b64d6_level0_row4\" class=\"row_heading level0 row4\" >25-29</th>\n",
       "                        <td id=\"T_b64d6_row4_col0\" class=\"data row4 col0\" >77</td>\n",
       "                        <td id=\"T_b64d6_row4_col1\" class=\"data row4 col1\" >13.37%</td>\n",
       "            </tr>\n",
       "            <tr>\n",
       "                        <th id=\"T_b64d6_level0_row5\" class=\"row_heading level0 row5\" >30-34</th>\n",
       "                        <td id=\"T_b64d6_row5_col0\" class=\"data row5 col0\" >52</td>\n",
       "                        <td id=\"T_b64d6_row5_col1\" class=\"data row5 col1\" >9.03%</td>\n",
       "            </tr>\n",
       "            <tr>\n",
       "                        <th id=\"T_b64d6_level0_row6\" class=\"row_heading level0 row6\" >35-39</th>\n",
       "                        <td id=\"T_b64d6_row6_col0\" class=\"data row6 col0\" >31</td>\n",
       "                        <td id=\"T_b64d6_row6_col1\" class=\"data row6 col1\" >5.38%</td>\n",
       "            </tr>\n",
       "            <tr>\n",
       "                        <th id=\"T_b64d6_level0_row7\" class=\"row_heading level0 row7\" >40+</th>\n",
       "                        <td id=\"T_b64d6_row7_col0\" class=\"data row7 col0\" >12</td>\n",
       "                        <td id=\"T_b64d6_row7_col1\" class=\"data row7 col1\" >2.08%</td>\n",
       "            </tr>\n",
       "    </tbody></table>"
      ],
      "text/plain": [
       "<pandas.io.formats.style.Styler at 0x27b6899b730>"
      ]
     },
     "execution_count": 300,
     "metadata": {},
     "output_type": "execute_result"
    }
   ],
   "source": [
    "# bins\n",
    "bins = [0, 9.99, 14.99, 19.99, 24.99, 29.99, 34.99, 39.99, 999.99]\n",
    "titles = [\"<10\", \"10-14\", \"15-19\", \"20-24\", \"25-29\", \"30-34\", \"35-39\", \"40+\"]\n",
    "\n",
    "# Categorize players using age bins\n",
    "users_df[\"Age Ranges\"] = pd.cut(users_df[\"Age\"], bins, labels = titles)\n",
    "\n",
    "# total count and percentage of players by age\n",
    "age_demo_totals = users_df[\"Age Ranges\"].value_counts()\n",
    "age_demo_percents = age_demo_totals / player_count * 100\n",
    "\n",
    "# make data file\n",
    "age_demo = pd.DataFrame({\"Total Purchase Count\": age_demo_totals, \"Percentage of Players\": age_demo_percents})\n",
    "\n",
    "#format and insert dataframe\n",
    "age_demo.sort_index().style.format({\"Percentage of Players\":\"{:.2f}%\"})"
   ]
  },
  {
   "cell_type": "code",
   "execution_count": 301,
   "id": "4185bd25",
   "metadata": {},
   "outputs": [
    {
     "data": {
      "text/html": [
       "<style  type=\"text/css\" >\n",
       "</style><table id=\"T_0d89c_\" ><thead>    <tr>        <th class=\"blank level0\" ></th>        <th class=\"col_heading level0 col0\" >Purchase Count</th>        <th class=\"col_heading level0 col1\" >Average Purchase Price</th>        <th class=\"col_heading level0 col2\" >total Purchase Value</th>        <th class=\"col_heading level0 col3\" >Avg Total Purchase per Person</th>    </tr></thead><tbody>\n",
       "                <tr>\n",
       "                        <th id=\"T_0d89c_level0_row0\" class=\"row_heading level0 row0\" ><10</th>\n",
       "                        <td id=\"T_0d89c_row0_col0\" class=\"data row0 col0\" >23</td>\n",
       "                        <td id=\"T_0d89c_row0_col1\" class=\"data row0 col1\" >$3.35</td>\n",
       "                        <td id=\"T_0d89c_row0_col2\" class=\"data row0 col2\" >$77.13</td>\n",
       "                        <td id=\"T_0d89c_row0_col3\" class=\"data row0 col3\" >$4.54</td>\n",
       "            </tr>\n",
       "            <tr>\n",
       "                        <th id=\"T_0d89c_level0_row1\" class=\"row_heading level0 row1\" >10-14</th>\n",
       "                        <td id=\"T_0d89c_row1_col0\" class=\"data row1 col0\" >28</td>\n",
       "                        <td id=\"T_0d89c_row1_col1\" class=\"data row1 col1\" >$2.96</td>\n",
       "                        <td id=\"T_0d89c_row1_col2\" class=\"data row1 col2\" >$82.78</td>\n",
       "                        <td id=\"T_0d89c_row1_col3\" class=\"data row1 col3\" >$3.76</td>\n",
       "            </tr>\n",
       "            <tr>\n",
       "                        <th id=\"T_0d89c_level0_row2\" class=\"row_heading level0 row2\" >15-19</th>\n",
       "                        <td id=\"T_0d89c_row2_col0\" class=\"data row2 col0\" >136</td>\n",
       "                        <td id=\"T_0d89c_row2_col1\" class=\"data row2 col1\" >$3.04</td>\n",
       "                        <td id=\"T_0d89c_row2_col2\" class=\"data row2 col2\" >$412.89</td>\n",
       "                        <td id=\"T_0d89c_row2_col3\" class=\"data row2 col3\" >$3.86</td>\n",
       "            </tr>\n",
       "            <tr>\n",
       "                        <th id=\"T_0d89c_level0_row3\" class=\"row_heading level0 row3\" >20-24</th>\n",
       "                        <td id=\"T_0d89c_row3_col0\" class=\"data row3 col0\" >365</td>\n",
       "                        <td id=\"T_0d89c_row3_col1\" class=\"data row3 col1\" >$3.05</td>\n",
       "                        <td id=\"T_0d89c_row3_col2\" class=\"data row3 col2\" >$1,114.06</td>\n",
       "                        <td id=\"T_0d89c_row3_col3\" class=\"data row3 col3\" >$4.32</td>\n",
       "            </tr>\n",
       "            <tr>\n",
       "                        <th id=\"T_0d89c_level0_row4\" class=\"row_heading level0 row4\" >25-29</th>\n",
       "                        <td id=\"T_0d89c_row4_col0\" class=\"data row4 col0\" >101</td>\n",
       "                        <td id=\"T_0d89c_row4_col1\" class=\"data row4 col1\" >$2.90</td>\n",
       "                        <td id=\"T_0d89c_row4_col2\" class=\"data row4 col2\" >$293.00</td>\n",
       "                        <td id=\"T_0d89c_row4_col3\" class=\"data row4 col3\" >$3.81</td>\n",
       "            </tr>\n",
       "            <tr>\n",
       "                        <th id=\"T_0d89c_level0_row5\" class=\"row_heading level0 row5\" >30-34</th>\n",
       "                        <td id=\"T_0d89c_row5_col0\" class=\"data row5 col0\" >73</td>\n",
       "                        <td id=\"T_0d89c_row5_col1\" class=\"data row5 col1\" >$2.93</td>\n",
       "                        <td id=\"T_0d89c_row5_col2\" class=\"data row5 col2\" >$214.00</td>\n",
       "                        <td id=\"T_0d89c_row5_col3\" class=\"data row5 col3\" >$4.12</td>\n",
       "            </tr>\n",
       "            <tr>\n",
       "                        <th id=\"T_0d89c_level0_row6\" class=\"row_heading level0 row6\" >35-39</th>\n",
       "                        <td id=\"T_0d89c_row6_col0\" class=\"data row6 col0\" >41</td>\n",
       "                        <td id=\"T_0d89c_row6_col1\" class=\"data row6 col1\" >$3.60</td>\n",
       "                        <td id=\"T_0d89c_row6_col2\" class=\"data row6 col2\" >$147.67</td>\n",
       "                        <td id=\"T_0d89c_row6_col3\" class=\"data row6 col3\" >$4.76</td>\n",
       "            </tr>\n",
       "            <tr>\n",
       "                        <th id=\"T_0d89c_level0_row7\" class=\"row_heading level0 row7\" >40+</th>\n",
       "                        <td id=\"T_0d89c_row7_col0\" class=\"data row7 col0\" >13</td>\n",
       "                        <td id=\"T_0d89c_row7_col1\" class=\"data row7 col1\" >$2.94</td>\n",
       "                        <td id=\"T_0d89c_row7_col2\" class=\"data row7 col2\" >$38.24</td>\n",
       "                        <td id=\"T_0d89c_row7_col3\" class=\"data row7 col3\" >$3.19</td>\n",
       "            </tr>\n",
       "    </tbody></table>"
      ],
      "text/plain": [
       "<pandas.io.formats.style.Styler at 0x27b6898aeb0>"
      ]
     },
     "execution_count": 301,
     "metadata": {},
     "output_type": "execute_result"
    }
   ],
   "source": [
    "#Purchase Analysis (Age)\n",
    "#place purchase data into age bins\n",
    "purchase_data[\"Age Ranges\"] =pd.cut(purchase_data[\"Age\"], bins, labels=titles)\n",
    "\n",
    "#purchase count, avg. purch price, avg purch price per person, by age\n",
    "age_total_purch=purchase_data.groupby([\"Age Ranges\"]).Price.sum()\n",
    "age_count=purchase_data.groupby([\"Age Ranges\"]).Price.count()\n",
    "age_avg_purch=purchase_data.groupby([\"Age Ranges\"]).Price.mean()\n",
    "age_avg_per_person=age_total_purch/age_demo[\"Total Purchase Count\"]\n",
    "#create a data frame for age purchase analysis\n",
    "age_data= pd.DataFrame({\"Purchase Count\":age_count,\n",
    "                        \"Average Purchase Price\":age_avg_purch,\n",
    "                        \"total Purchase Value\": age_total_purch,\n",
    "                        \"Avg Total Purchase per Person\": age_avg_per_person\n",
    "                       })\n",
    "#format data frame and print it out\n",
    "age_data.style.format({\"Purchase Count\":\"{:.0f}\",\n",
    "                       \"Average Purchase Price\":\"${:.2f}\",\n",
    "                       \"total Purchase Value\":\"${:,.2f}\",\n",
    "                       \"Avg Total Purchase per Person\":\"${:.2f}\",})\n"
   ]
  },
  {
   "cell_type": "code",
   "execution_count": 302,
   "id": "ff1785f1",
   "metadata": {},
   "outputs": [
    {
     "data": {
      "text/html": [
       "<style  type=\"text/css\" >\n",
       "</style><table id=\"T_ab3e9_\" ><thead>    <tr>        <th class=\"blank level0\" ></th>        <th class=\"col_heading level0 col0\" >Purchase Count</th>        <th class=\"col_heading level0 col1\" >Average Purchase Price</th>        <th class=\"col_heading level0 col2\" >Total Purchase Value</th>    </tr>    <tr>        <th class=\"index_name level0\" >SN</th>        <th class=\"blank\" ></th>        <th class=\"blank\" ></th>        <th class=\"blank\" ></th>    </tr></thead><tbody>\n",
       "                <tr>\n",
       "                        <th id=\"T_ab3e9_level0_row0\" class=\"row_heading level0 row0\" >Lisosia93</th>\n",
       "                        <td id=\"T_ab3e9_row0_col0\" class=\"data row0 col0\" >5</td>\n",
       "                        <td id=\"T_ab3e9_row0_col1\" class=\"data row0 col1\" >$3.79</td>\n",
       "                        <td id=\"T_ab3e9_row0_col2\" class=\"data row0 col2\" >$18.96</td>\n",
       "            </tr>\n",
       "            <tr>\n",
       "                        <th id=\"T_ab3e9_level0_row1\" class=\"row_heading level0 row1\" >Idastidru52</th>\n",
       "                        <td id=\"T_ab3e9_row1_col0\" class=\"data row1 col0\" >4</td>\n",
       "                        <td id=\"T_ab3e9_row1_col1\" class=\"data row1 col1\" >$3.86</td>\n",
       "                        <td id=\"T_ab3e9_row1_col2\" class=\"data row1 col2\" >$15.45</td>\n",
       "            </tr>\n",
       "            <tr>\n",
       "                        <th id=\"T_ab3e9_level0_row2\" class=\"row_heading level0 row2\" >Chamjask73</th>\n",
       "                        <td id=\"T_ab3e9_row2_col0\" class=\"data row2 col0\" >3</td>\n",
       "                        <td id=\"T_ab3e9_row2_col1\" class=\"data row2 col1\" >$4.61</td>\n",
       "                        <td id=\"T_ab3e9_row2_col2\" class=\"data row2 col2\" >$13.83</td>\n",
       "            </tr>\n",
       "            <tr>\n",
       "                        <th id=\"T_ab3e9_level0_row3\" class=\"row_heading level0 row3\" >Iral74</th>\n",
       "                        <td id=\"T_ab3e9_row3_col0\" class=\"data row3 col0\" >4</td>\n",
       "                        <td id=\"T_ab3e9_row3_col1\" class=\"data row3 col1\" >$3.40</td>\n",
       "                        <td id=\"T_ab3e9_row3_col2\" class=\"data row3 col2\" >$13.62</td>\n",
       "            </tr>\n",
       "            <tr>\n",
       "                        <th id=\"T_ab3e9_level0_row4\" class=\"row_heading level0 row4\" >Iskadarya95</th>\n",
       "                        <td id=\"T_ab3e9_row4_col0\" class=\"data row4 col0\" >3</td>\n",
       "                        <td id=\"T_ab3e9_row4_col1\" class=\"data row4 col1\" >$4.37</td>\n",
       "                        <td id=\"T_ab3e9_row4_col2\" class=\"data row4 col2\" >$13.10</td>\n",
       "            </tr>\n",
       "    </tbody></table>"
      ],
      "text/plain": [
       "<pandas.io.formats.style.Styler at 0x27b6800f490>"
      ]
     },
     "execution_count": 302,
     "metadata": {},
     "output_type": "execute_result"
    }
   ],
   "source": [
    "#Top Spenders\n",
    "#purchase count, avg purchase price, total purchase value\n",
    "purchase_gb=purchase_data.groupby([\"SN\"])\n",
    "purchase_count=purchase_gb.Price.count()\n",
    "purchase_avg_price=purchase_gb.Price.mean()\n",
    "purchase_total_value=purchase_gb.Price.sum()\n",
    "\n",
    "#Make Data frame\n",
    "purchase_df=pd.DataFrame({\"Purchase Count\":purchase_count,\n",
    "                          \"Average Purchase Price\":purchase_avg_price,\n",
    "                          \"Total Purchase Value\":purchase_total_value\n",
    "                         })\n",
    "\n",
    "purchase_df.sort_values(\"Total Purchase Value\", ascending=False, inplace=True)\n",
    "#Print first 5 rows with formatting\n",
    "purchase_df.head().style.format({\"Purchase Count\":\"{:.0f}\",\n",
    "                          \"Average Purchase Price\":\"${:.2f}\",\n",
    "                          \"Total Purchase Value\":\"${:.2f}\",})\n"
   ]
  },
  {
   "cell_type": "code",
   "execution_count": 303,
   "id": "5132dd70",
   "metadata": {},
   "outputs": [
    {
     "data": {
      "text/html": [
       "<style  type=\"text/css\" >\n",
       "</style><table id=\"T_1cf3b_\" ><thead>    <tr>        <th class=\"blank\" ></th>        <th class=\"blank level0\" ></th>        <th class=\"col_heading level0 col0\" >Purchase Count</th>        <th class=\"col_heading level0 col1\" >Item Price</th>        <th class=\"col_heading level0 col2\" >Total Purchase Value</th>    </tr>    <tr>        <th class=\"index_name level0\" >Item ID</th>        <th class=\"index_name level1\" >Item Name</th>        <th class=\"blank\" ></th>        <th class=\"blank\" ></th>        <th class=\"blank\" ></th>    </tr></thead><tbody>\n",
       "                <tr>\n",
       "                        <th id=\"T_1cf3b_level0_row0\" class=\"row_heading level0 row0\" >92</th>\n",
       "                        <th id=\"T_1cf3b_level1_row0\" class=\"row_heading level1 row0\" >Final Critic</th>\n",
       "                        <td id=\"T_1cf3b_row0_col0\" class=\"data row0 col0\" >13</td>\n",
       "                        <td id=\"T_1cf3b_row0_col1\" class=\"data row0 col1\" >$4.61</td>\n",
       "                        <td id=\"T_1cf3b_row0_col2\" class=\"data row0 col2\" >$59.99</td>\n",
       "            </tr>\n",
       "            <tr>\n",
       "                        <th id=\"T_1cf3b_level0_row1\" class=\"row_heading level0 row1\" >178</th>\n",
       "                        <th id=\"T_1cf3b_level1_row1\" class=\"row_heading level1 row1\" >Oathbreaker, Last Hope of the Breaking Storm</th>\n",
       "                        <td id=\"T_1cf3b_row1_col0\" class=\"data row1 col0\" >12</td>\n",
       "                        <td id=\"T_1cf3b_row1_col1\" class=\"data row1 col1\" >$4.23</td>\n",
       "                        <td id=\"T_1cf3b_row1_col2\" class=\"data row1 col2\" >$50.76</td>\n",
       "            </tr>\n",
       "            <tr>\n",
       "                        <th id=\"T_1cf3b_level0_row2\" class=\"row_heading level0 row2\" >145</th>\n",
       "                        <th id=\"T_1cf3b_level1_row2\" class=\"row_heading level1 row2\" >Fiery Glass Crusader</th>\n",
       "                        <td id=\"T_1cf3b_row2_col0\" class=\"data row2 col0\" >9</td>\n",
       "                        <td id=\"T_1cf3b_row2_col1\" class=\"data row2 col1\" >$4.58</td>\n",
       "                        <td id=\"T_1cf3b_row2_col2\" class=\"data row2 col2\" >$41.22</td>\n",
       "            </tr>\n",
       "            <tr>\n",
       "                        <th id=\"T_1cf3b_level0_row3\" class=\"row_heading level0 row3\" >132</th>\n",
       "                        <th id=\"T_1cf3b_level1_row3\" class=\"row_heading level1 row3\" >Persuasion</th>\n",
       "                        <td id=\"T_1cf3b_row3_col0\" class=\"data row3 col0\" >9</td>\n",
       "                        <td id=\"T_1cf3b_row3_col1\" class=\"data row3 col1\" >$3.22</td>\n",
       "                        <td id=\"T_1cf3b_row3_col2\" class=\"data row3 col2\" >$28.99</td>\n",
       "            </tr>\n",
       "            <tr>\n",
       "                        <th id=\"T_1cf3b_level0_row4\" class=\"row_heading level0 row4\" >108</th>\n",
       "                        <th id=\"T_1cf3b_level1_row4\" class=\"row_heading level1 row4\" >Extraction, Quickblade Of Trembling Hands</th>\n",
       "                        <td id=\"T_1cf3b_row4_col0\" class=\"data row4 col0\" >9</td>\n",
       "                        <td id=\"T_1cf3b_row4_col1\" class=\"data row4 col1\" >$3.53</td>\n",
       "                        <td id=\"T_1cf3b_row4_col2\" class=\"data row4 col2\" >$31.77</td>\n",
       "            </tr>\n",
       "    </tbody></table>"
      ],
      "text/plain": [
       "<pandas.io.formats.style.Styler at 0x27b689ec8e0>"
      ]
     },
     "execution_count": 303,
     "metadata": {},
     "output_type": "execute_result"
    }
   ],
   "source": [
    "#Most Popular items\n",
    "item_df=purchase_data[[\"Item ID\",\"Item Name\", \"Price\"]]\n",
    "item_gb=item_df.groupby([\"Item ID\",\"Item Name\"])\n",
    "purchase_item=item_gb.Price.count()\n",
    "total_item=item_gb.Price.sum()\n",
    "price_item=item_gb.Price.mean()\n",
    "#create a data frame for most popular items\n",
    "item_df=pd.DataFrame({\"Purchase Count\":purchase_item,\n",
    "                      \"Item Price\":price_item,\n",
    "                      \"Total Purchase Value\":total_item})\n",
    "#sort the data frame in descending order\n",
    "item_df.sort_values(\"Purchase Count\", ascending=False, inplace=True)\n",
    "#Print first 5 rows with formatting\n",
    "item_df.head().style.format({\"Purchase Count\":\"{:.0f}\",\n",
    "                      \"Item Price\":\"${:.2f}\",\n",
    "                      \"Total Purchase Value\":\"${:.2f}\",})"
   ]
  },
  {
   "cell_type": "code",
   "execution_count": 304,
   "id": "5b1e89a7",
   "metadata": {},
   "outputs": [
    {
     "data": {
      "text/html": [
       "<style  type=\"text/css\" >\n",
       "</style><table id=\"T_66b18_\" ><thead>    <tr>        <th class=\"blank\" ></th>        <th class=\"blank level0\" ></th>        <th class=\"col_heading level0 col0\" >Purchase Count</th>        <th class=\"col_heading level0 col1\" >Item Price</th>        <th class=\"col_heading level0 col2\" >Total Purchase Value</th>    </tr>    <tr>        <th class=\"index_name level0\" >Item ID</th>        <th class=\"index_name level1\" >Item Name</th>        <th class=\"blank\" ></th>        <th class=\"blank\" ></th>        <th class=\"blank\" ></th>    </tr></thead><tbody>\n",
       "                <tr>\n",
       "                        <th id=\"T_66b18_level0_row0\" class=\"row_heading level0 row0\" >92</th>\n",
       "                        <th id=\"T_66b18_level1_row0\" class=\"row_heading level1 row0\" >Final Critic</th>\n",
       "                        <td id=\"T_66b18_row0_col0\" class=\"data row0 col0\" >13</td>\n",
       "                        <td id=\"T_66b18_row0_col1\" class=\"data row0 col1\" >$4.61</td>\n",
       "                        <td id=\"T_66b18_row0_col2\" class=\"data row0 col2\" >$59.99</td>\n",
       "            </tr>\n",
       "            <tr>\n",
       "                        <th id=\"T_66b18_level0_row1\" class=\"row_heading level0 row1\" >178</th>\n",
       "                        <th id=\"T_66b18_level1_row1\" class=\"row_heading level1 row1\" >Oathbreaker, Last Hope of the Breaking Storm</th>\n",
       "                        <td id=\"T_66b18_row1_col0\" class=\"data row1 col0\" >12</td>\n",
       "                        <td id=\"T_66b18_row1_col1\" class=\"data row1 col1\" >$4.23</td>\n",
       "                        <td id=\"T_66b18_row1_col2\" class=\"data row1 col2\" >$50.76</td>\n",
       "            </tr>\n",
       "            <tr>\n",
       "                        <th id=\"T_66b18_level0_row2\" class=\"row_heading level0 row2\" >82</th>\n",
       "                        <th id=\"T_66b18_level1_row2\" class=\"row_heading level1 row2\" >Nirvana</th>\n",
       "                        <td id=\"T_66b18_row2_col0\" class=\"data row2 col0\" >9</td>\n",
       "                        <td id=\"T_66b18_row2_col1\" class=\"data row2 col1\" >$4.90</td>\n",
       "                        <td id=\"T_66b18_row2_col2\" class=\"data row2 col2\" >$44.10</td>\n",
       "            </tr>\n",
       "            <tr>\n",
       "                        <th id=\"T_66b18_level0_row3\" class=\"row_heading level0 row3\" >145</th>\n",
       "                        <th id=\"T_66b18_level1_row3\" class=\"row_heading level1 row3\" >Fiery Glass Crusader</th>\n",
       "                        <td id=\"T_66b18_row3_col0\" class=\"data row3 col0\" >9</td>\n",
       "                        <td id=\"T_66b18_row3_col1\" class=\"data row3 col1\" >$4.58</td>\n",
       "                        <td id=\"T_66b18_row3_col2\" class=\"data row3 col2\" >$41.22</td>\n",
       "            </tr>\n",
       "            <tr>\n",
       "                        <th id=\"T_66b18_level0_row4\" class=\"row_heading level0 row4\" >103</th>\n",
       "                        <th id=\"T_66b18_level1_row4\" class=\"row_heading level1 row4\" >Singed Scalpel</th>\n",
       "                        <td id=\"T_66b18_row4_col0\" class=\"data row4 col0\" >8</td>\n",
       "                        <td id=\"T_66b18_row4_col1\" class=\"data row4 col1\" >$4.35</td>\n",
       "                        <td id=\"T_66b18_row4_col2\" class=\"data row4 col2\" >$34.80</td>\n",
       "            </tr>\n",
       "    </tbody></table>"
      ],
      "text/plain": [
       "<pandas.io.formats.style.Styler at 0x27b689ee820>"
      ]
     },
     "execution_count": 304,
     "metadata": {},
     "output_type": "execute_result"
    }
   ],
   "source": [
    "#Most Profitable Items\n",
    "item_df=purchase_data[[\"Item ID\",\"Item Name\", \"Price\"]]\n",
    "item_gb=item_df.groupby([\"Item ID\",\"Item Name\"])\n",
    "purchase_item=item_gb.Price.count()\n",
    "total_item=item_gb.Price.sum()\n",
    "price_item=item_gb.Price.mean()\n",
    "#create data frame for most profitable items\n",
    "item_df=pd.DataFrame({\"Purchase Count\":purchase_item,\n",
    "                      \"Item Price\":price_item,\n",
    "                      \"Total Purchase Value\":total_item})\n",
    "#sort the data frame in ascending order\n",
    "item_df.sort_values(\"Total Purchase Value\", ascending=False, inplace=True)\n",
    "#Print first 5 rows with formatting\n",
    "item_df.head().style.format({\"Purchase Count\":\"{:.0f}\",\n",
    "                             \"Item Price\":\"${:.2f}\",\n",
    "                             \"Total Purchase Value\":\"${:.2f}\"})"
   ]
  },
  {
   "cell_type": "code",
   "execution_count": null,
   "id": "854b4f61",
   "metadata": {},
   "outputs": [],
   "source": []
  },
  {
   "cell_type": "code",
   "execution_count": null,
   "id": "0c29431a",
   "metadata": {},
   "outputs": [],
   "source": []
  }
 ],
 "metadata": {
  "kernelspec": {
   "display_name": "Python 3",
   "language": "python",
   "name": "python3"
  },
  "language_info": {
   "codemirror_mode": {
    "name": "ipython",
    "version": 3
   },
   "file_extension": ".py",
   "mimetype": "text/x-python",
   "name": "python",
   "nbconvert_exporter": "python",
   "pygments_lexer": "ipython3",
   "version": "3.8.8"
  }
 },
 "nbformat": 4,
 "nbformat_minor": 5
}
